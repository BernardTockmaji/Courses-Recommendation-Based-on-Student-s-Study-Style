{
 "cells": [
  {
   "cell_type": "markdown",
   "metadata": {},
   "source": [
    "<h1>Fuzzy Logic model for determining suitable course for student"
   ]
  },
  {
   "cell_type": "markdown",
   "metadata": {},
   "source": [
    "### **Importing libraries**"
   ]
  },
  {
   "cell_type": "code",
   "execution_count": 1,
   "metadata": {},
   "outputs": [],
   "source": [
    "import numpy as np\n",
    "import skfuzzy as fuzz\n",
    "from skfuzzy import control as ctrl\n",
    "import matplotlib.pyplot as plt\n",
    "%matplotlib inline"
   ]
  },
  {
   "cell_type": "markdown",
   "metadata": {},
   "source": [
    "### **Defining Student Antecedents (Inputs)**"
   ]
  },
  {
   "cell_type": "code",
   "execution_count": 2,
   "metadata": {},
   "outputs": [],
   "source": [
    "std_perception = ctrl.Antecedent(np.arange(-10, 10, 1), 'std_perception')\n",
    "std_input = ctrl.Antecedent(np.arange(-10, 10, 1), 'std_input')\n",
    "std_processing = ctrl.Antecedent(np.arange(-10, 10, 1), 'std_processing')\n",
    "std_understanding = ctrl.Antecedent(np.arange(-10, 10, 1), 'std_understanding')"
   ]
  },
  {
   "cell_type": "markdown",
   "metadata": {},
   "source": [
    "### **Defining Course Antecedents (Inputs)**"
   ]
  },
  {
   "cell_type": "code",
   "execution_count": 3,
   "metadata": {},
   "outputs": [],
   "source": [
    "course_perception = ctrl.Antecedent(np.arange(-10, 10, 1), 'course_perception')\n",
    "course_input = ctrl.Antecedent(np.arange(-10, 10, 1), 'course_input')\n",
    "course_processing = ctrl.Antecedent(np.arange(-10, 10, 1), 'course_processing')\n",
    "course_understanding = ctrl.Antecedent(np.arange(-10, 10, 1), 'course_understanding')"
   ]
  },
  {
   "cell_type": "markdown",
   "metadata": {},
   "source": [
    "### **Consequents is a value between cross analysing student and course together**"
   ]
  },
  {
   "cell_type": "code",
   "execution_count": 4,
   "metadata": {},
   "outputs": [],
   "source": [
    "recommended_perception = ctrl.Consequent(np.arange(-10, 10, 1), 'recommended_perception')\n",
    "recommended_input = ctrl.Consequent(np.arange(-10, 10, 1), 'recommended_input')\n",
    "recommended_processing = ctrl.Consequent(np.arange(-10, 10, 1), 'recommended_processing')\n",
    "recommended_understanding = ctrl.Consequent(np.arange(-10, 10, 1), 'recommended_understanding')"
   ]
  },
  {
   "cell_type": "markdown",
   "metadata": {},
   "source": [
    "### **Defining the Fuzzy Sets and the Membership Functions for the Antecedents and the Consequents**"
   ]
  },
  {
   "cell_type": "markdown",
   "metadata": {},
   "source": [
    "    For student's fuzzy sets, two distinct areas should be seen, these two areas show the spectrum in which a student can belong to, a student is either above 3 in a score for a certain attribute, making him belong more to his designated area, or under 3 which makes him more in the spectrum of ambiguity and ability to adapt in the gray zone of the spectrum"
   ]
  },
  {
   "cell_type": "code",
   "execution_count": 5,
   "metadata": {},
   "outputs": [],
   "source": [
    "std_perception['Sensing'] = fuzz.trapmf(std_perception.universe, [-3, 3, 10, 10])\n",
    "std_perception['Intuitive'] = fuzz.trapmf(std_perception.universe, [-10, -10, -3, 3])"
   ]
  },
  {
   "cell_type": "code",
   "execution_count": 6,
   "metadata": {},
   "outputs": [],
   "source": [
    "std_input['Visual'] = fuzz.trapmf(std_input.universe, [-3, 3, 10, 10])\n",
    "std_input['Verbal'] = fuzz.trapmf(std_input.universe, [-10, -10, -3, 3])"
   ]
  },
  {
   "cell_type": "code",
   "execution_count": 7,
   "metadata": {},
   "outputs": [],
   "source": [
    "std_processing['Active'] = fuzz.trapmf(std_processing.universe, [-3, 3, 10, 10])\n",
    "std_processing['Reflective'] = fuzz.trapmf(std_processing.universe, [-10, -10, -3, 3])"
   ]
  },
  {
   "cell_type": "code",
   "execution_count": 8,
   "metadata": {},
   "outputs": [],
   "source": [
    "std_understanding['Sequential'] = fuzz.trapmf(std_understanding.universe, [-3, 3, 10, 10])\n",
    "std_understanding['Global'] = fuzz.trapmf(std_understanding.universe, [-10, -10, -3, 3])"
   ]
  },
  {
   "cell_type": "code",
   "execution_count": 9,
   "metadata": {},
   "outputs": [
    {
     "name": "stderr",
     "output_type": "stream",
     "text": [
      "c:\\Users\\berna\\.conda\\envs\\ai-env\\lib\\site-packages\\skfuzzy\\control\\fuzzyvariable.py:122: UserWarning: Matplotlib is currently using module://matplotlib_inline.backend_inline, which is a non-GUI backend, so cannot show the figure.\n",
      "  fig.show()\n"
     ]
    },
    {
     "data": {
      "image/png": "[encoded data removed]",
      "text/plain": [
       "<Figure size 432x288 with 1 Axes>"
      ]
     },
     "metadata": {
      "needs_background": "light"
     },
     "output_type": "display_data"
    }
   ],
   "source": [
    "std_understanding.view()"
   ]
  },
  {
   "cell_type": "markdown",
   "metadata": {},
   "source": [
    "    Courses have distinct values, a course is either belonging to a category or not"
   ]
  },
  {
   "cell_type": "code",
   "execution_count": 10,
   "metadata": {},
   "outputs": [],
   "source": [
    "course_perception['Sensing'] = fuzz.trapmf(course_perception.universe, [0.1, 10, 10, 10])\n",
    "course_perception['Intuitive'] = fuzz.trapmf(course_perception.universe, [-10, -10, -0.1, 0])"
   ]
  },
  {
   "cell_type": "code",
   "execution_count": 11,
   "metadata": {},
   "outputs": [],
   "source": [
    "course_input['Visual'] = fuzz.trapmf(course_input.universe, [0, 0.1, 10, 10])\n",
    "course_input['Verbal'] = fuzz.trapmf(course_input.universe, [-10, -10, -0.1, 0])"
   ]
  },
  {
   "cell_type": "code",
   "execution_count": 12,
   "metadata": {},
   "outputs": [],
   "source": [
    "course_processing['Active'] = fuzz.trapmf(course_processing.universe, [0, 0.1, 10, 10])\n",
    "course_processing['Reflective'] = fuzz.trapmf(course_processing.universe, [-10, -10, -0.1, 0])"
   ]
  },
  {
   "cell_type": "code",
   "execution_count": 13,
   "metadata": {},
   "outputs": [],
   "source": [
    "course_understanding['Sequential'] = fuzz.trapmf(course_understanding.universe, [0, 0.1, 10, 10])\n",
    "course_understanding['Global'] = fuzz.trapmf(course_understanding.universe, [-10, -10, -0.1, 0])"
   ]
  },
  {
   "cell_type": "code",
   "execution_count": 14,
   "metadata": {},
   "outputs": [
    {
     "name": "stderr",
     "output_type": "stream",
     "text": [
      "c:\\Users\\berna\\.conda\\envs\\ai-env\\lib\\site-packages\\skfuzzy\\control\\fuzzyvariable.py:122: UserWarning: Matplotlib is currently using module://matplotlib_inline.backend_inline, which is a non-GUI backend, so cannot show the figure.\n",
      "  fig.show()\n"
     ]
    },
    {
     "data": {
      "image/png": "[encoded data removed]",
      "text/plain": [
       "<Figure size 432x288 with 1 Axes>"
      ]
     },
     "metadata": {
      "needs_background": "light"
     },
     "output_type": "display_data"
    }
   ],
   "source": [
    "course_understanding.view()"
   ]
  },
  {
   "cell_type": "markdown",
   "metadata": {},
   "source": [
    "### **Consequent's membership functions**"
   ]
  },
  {
   "cell_type": "code",
   "execution_count": 15,
   "metadata": {},
   "outputs": [],
   "source": [
    "recommended_perception['Intuitive/Intuitive'] = fuzz.trapmf(recommended_perception.universe, [-10, -10, -3, 0])\n",
    "recommended_perception['Intuitive/Sensing'] = fuzz.trapmf(recommended_perception.universe, [-3.1, -3, 0, 3])\n",
    "recommended_perception['Sensing/Intuitive'] = fuzz.trapmf(recommended_perception.universe, [-3, 0, 3, 3.1])\n",
    "recommended_perception['Sensing/Sensing'] = fuzz.trapmf(recommended_perception.universe, [0, 3, 10, 10])"
   ]
  },
  {
   "cell_type": "code",
   "execution_count": 16,
   "metadata": {},
   "outputs": [],
   "source": [
    "recommended_input['Verbal/Verbal'] = fuzz.trapmf(recommended_input.universe, [-10, -10, -3, 0])\n",
    "recommended_input['Verbal/Visual'] = fuzz.trapmf(recommended_input.universe, [-3.1, -3, 0, 3])\n",
    "recommended_input['Visual/Verbal'] = fuzz.trapmf(recommended_input.universe, [-3, 0, 3, 3.1])\n",
    "recommended_input['Visual/Visual'] = fuzz.trapmf(recommended_input.universe, [0, 3, 10, 10])"
   ]
  },
  {
   "cell_type": "code",
   "execution_count": 17,
   "metadata": {},
   "outputs": [],
   "source": [
    "recommended_processing['Reflective/Reflective'] = fuzz.trapmf(recommended_processing.universe, [-10, -10, -3, 0])\n",
    "recommended_processing['Reflective/Active'] = fuzz.trapmf(recommended_processing.universe, [-3.1, -3, 0, 3])\n",
    "recommended_processing['Active/Reflective'] = fuzz.trapmf(recommended_processing.universe, [-3, 0, 3, 3.1])\n",
    "recommended_processing['Active/Active'] = fuzz.trapmf(recommended_processing.universe, [0, 3, 10, 10])"
   ]
  },
  {
   "cell_type": "code",
   "execution_count": 18,
   "metadata": {},
   "outputs": [],
   "source": [
    "recommended_understanding['Global/Global'] = fuzz.trapmf(recommended_understanding.universe, [-10, -10, -3, 0])\n",
    "recommended_understanding['Global/Sequential'] = fuzz.trapmf(recommended_understanding.universe, [-3.1, -3, 0, 3])\n",
    "recommended_understanding['Sequential/Global'] = fuzz.trapmf(recommended_understanding.universe, [-3, 0, 3, 3.1])\n",
    "recommended_understanding['Sequential/Sequential'] = fuzz.trapmf(recommended_understanding.universe, [0, 3, 10, 10])"
   ]
  },
  {
   "cell_type": "code",
   "execution_count": 19,
   "metadata": {},
   "outputs": [
    {
     "name": "stderr",
     "output_type": "stream",
     "text": [
      "c:\\Users\\berna\\.conda\\envs\\ai-env\\lib\\site-packages\\skfuzzy\\control\\fuzzyvariable.py:122: UserWarning: Matplotlib is currently using module://matplotlib_inline.backend_inline, which is a non-GUI backend, so cannot show the figure.\n",
      "  fig.show()\n"
     ]
    },
    {
     "data": {
      "image/png": "[encoded data removed]",
      "text/plain": [
       "<Figure size 432x288 with 1 Axes>"
      ]
     },
     "metadata": {
      "needs_background": "light"
     },
     "output_type": "display_data"
    }
   ],
   "source": [
    "recommended_understanding.view()"
   ]
  },
  {
   "cell_type": "markdown",
   "metadata": {},
   "source": [
    "### **Writing Rules for PERCEPTION**"
   ]
  },
  {
   "cell_type": "markdown",
   "metadata": {},
   "source": [
    "    IF Student Perception is Intuitive strongly AND Course perception is intuitive THEN recommend Intuitive/Intuitive"
   ]
  },
  {
   "cell_type": "code",
   "execution_count": 20,
   "metadata": {},
   "outputs": [],
   "source": [
    "perception_rule1 = ctrl.Rule((std_perception['Intuitive'] & course_perception['Intuitive']),\n",
    "                          consequent=recommended_perception['Intuitive/Intuitive'])"
   ]
  },
  {
   "cell_type": "markdown",
   "metadata": {},
   "source": [
    "    IF Student Perception is Intuitive strongly AND Course perception is Sensing THEN recommend Intuitive/Sensing "
   ]
  },
  {
   "cell_type": "code",
   "execution_count": 21,
   "metadata": {},
   "outputs": [],
   "source": [
    "perception_rule2 = ctrl.Rule((std_perception['Intuitive'] & course_perception['Sensing']),\n",
    "                          consequent=recommended_perception['Intuitive/Sensing'])"
   ]
  },
  {
   "cell_type": "markdown",
   "metadata": {},
   "source": [
    "    IF Student Perception is Sensitive strongly AND Course perception is Intuitive THEN recommend Sensing/Intuitive"
   ]
  },
  {
   "cell_type": "code",
   "execution_count": 22,
   "metadata": {},
   "outputs": [],
   "source": [
    "perception_rule3 = ctrl.Rule((std_perception['Sensing'] & course_perception['Intuitive']),\n",
    "                          consequent=recommended_perception['Sensing/Intuitive'])"
   ]
  },
  {
   "cell_type": "markdown",
   "metadata": {},
   "source": [
    "    IF Student Perception is Sensing AND Course perception is Sensing THEN recommend Sensing/Sensing"
   ]
  },
  {
   "cell_type": "code",
   "execution_count": 23,
   "metadata": {},
   "outputs": [],
   "source": [
    "perception_rule4 = ctrl.Rule((std_perception['Sensing'] & course_perception['Sensing']),\n",
    "                          consequent=recommended_perception['Sensing/Sensing'])"
   ]
  },
  {
   "cell_type": "markdown",
   "metadata": {},
   "source": [
    "### **Writing Rules for INPUT**"
   ]
  },
  {
   "cell_type": "markdown",
   "metadata": {},
   "source": [
    "    IF Student Input is Verbal AND Course Input is Verbal THEN recommend Verbal/Verbal"
   ]
  },
  {
   "cell_type": "code",
   "execution_count": 24,
   "metadata": {},
   "outputs": [],
   "source": [
    "input_rule1 = ctrl.Rule((std_input['Verbal'] & course_input['Verbal']),\n",
    "                          consequent=recommended_input['Verbal/Verbal'])"
   ]
  },
  {
   "cell_type": "markdown",
   "metadata": {},
   "source": [
    "    IF Student Input is Verbal AND Course Input is Visual THEN recommend Verbal/Visual"
   ]
  },
  {
   "cell_type": "code",
   "execution_count": 25,
   "metadata": {},
   "outputs": [],
   "source": [
    "input_rule2 = ctrl.Rule((std_input['Verbal'] & course_input['Visual']),\n",
    "                          consequent=recommended_input['Verbal/Visual'])"
   ]
  },
  {
   "cell_type": "markdown",
   "metadata": {},
   "source": [
    "    IF Student Input is Visual AND Course Input is Verbal THEN recommend Visual/Verbal "
   ]
  },
  {
   "cell_type": "code",
   "execution_count": 26,
   "metadata": {},
   "outputs": [],
   "source": [
    "input_rule3 = ctrl.Rule((std_input['Visual'] & course_input['Verbal']),\n",
    "                          consequent=recommended_input['Visual/Verbal'])"
   ]
  },
  {
   "cell_type": "markdown",
   "metadata": {},
   "source": [
    "    IF Student Input is Visual AND Course Input is Visual THEN recommend Visual/Visual"
   ]
  },
  {
   "cell_type": "code",
   "execution_count": 27,
   "metadata": {},
   "outputs": [],
   "source": [
    "input_rule4 = ctrl.Rule((std_input['Visual'] & course_input['Visual']),\n",
    "                          consequent=recommended_input['Visual/Visual'])"
   ]
  },
  {
   "cell_type": "markdown",
   "metadata": {},
   "source": [
    "### **Writing Rules for PROCESSING**"
   ]
  },
  {
   "cell_type": "markdown",
   "metadata": {},
   "source": [
    "    IF Student Processing is Reflective AND Course Processing is Reflective THEN recommend Reflective/Reflective"
   ]
  },
  {
   "cell_type": "code",
   "execution_count": 28,
   "metadata": {},
   "outputs": [],
   "source": [
    "processing_rule1 = ctrl.Rule((std_processing['Reflective'] & course_processing['Reflective']),\n",
    "                          consequent=recommended_processing['Reflective/Reflective'])"
   ]
  },
  {
   "cell_type": "markdown",
   "metadata": {},
   "source": [
    "    IF Student Processing is Reflective AND Course Processing is Active THEN recommend Reflective/Active"
   ]
  },
  {
   "cell_type": "code",
   "execution_count": 29,
   "metadata": {},
   "outputs": [],
   "source": [
    "processing_rule2 = ctrl.Rule((std_processing['Reflective'] & course_processing['Active']),\n",
    "                          consequent=recommended_processing['Reflective/Active'])"
   ]
  },
  {
   "cell_type": "markdown",
   "metadata": {},
   "source": [
    "    IF Student Processing is Active AND Course Processing is Reflective THEN recommend Active/Reflective "
   ]
  },
  {
   "cell_type": "code",
   "execution_count": 30,
   "metadata": {},
   "outputs": [],
   "source": [
    "processing_rule3 = ctrl.Rule((std_processing['Active'] & course_processing['Reflective']),\n",
    "                          consequent=recommended_processing['Active/Reflective'])"
   ]
  },
  {
   "cell_type": "markdown",
   "metadata": {},
   "source": [
    "    IF Student Processing is Active AND Course Processing is Active THEN recommend Active/Active"
   ]
  },
  {
   "cell_type": "code",
   "execution_count": 31,
   "metadata": {},
   "outputs": [],
   "source": [
    "processing_rule4 = ctrl.Rule((std_processing['Active'] & course_processing['Active']),\n",
    "                          consequent=recommended_processing['Active/Active'])"
   ]
  },
  {
   "cell_type": "markdown",
   "metadata": {},
   "source": [
    "### **Writing Rules for UNDERSTANDING**"
   ]
  },
  {
   "cell_type": "markdown",
   "metadata": {},
   "source": [
    "    IF Student Processing is Global AND Course Processing is Global THEN recommend Global/Global"
   ]
  },
  {
   "cell_type": "code",
   "execution_count": 32,
   "metadata": {},
   "outputs": [],
   "source": [
    "understanding_rule1 = ctrl.Rule((std_understanding['Global'] & course_understanding['Global']),\n",
    "                          consequent=recommended_understanding['Global/Global'])"
   ]
  },
  {
   "cell_type": "markdown",
   "metadata": {},
   "source": [
    "    IF Student Processing is Global AND Course Processing is Sequential THEN recommend Global/Sequential"
   ]
  },
  {
   "cell_type": "code",
   "execution_count": 33,
   "metadata": {},
   "outputs": [],
   "source": [
    "understanding_rule2 = ctrl.Rule((std_understanding['Global'] & course_understanding['Sequential']),\n",
    "                          consequent=recommended_understanding['Global/Sequential'])"
   ]
  },
  {
   "cell_type": "markdown",
   "metadata": {},
   "source": [
    "    IF Student Processing is Sequential AND Course Processing is Global THEN recommend Sequential/Global "
   ]
  },
  {
   "cell_type": "code",
   "execution_count": 34,
   "metadata": {},
   "outputs": [],
   "source": [
    "understanding_rule3 = ctrl.Rule((std_understanding['Sequential'] & course_understanding['Global']),\n",
    "                          consequent=recommended_understanding['Sequential/Global'])"
   ]
  },
  {
   "cell_type": "markdown",
   "metadata": {},
   "source": [
    "    IF Student Processing is Sequential AND Course Processing is Sequential THEN recommend Sequential/Sequential"
   ]
  },
  {
   "cell_type": "code",
   "execution_count": 35,
   "metadata": {},
   "outputs": [],
   "source": [
    "understanding_rule4 = ctrl.Rule((std_understanding['Sequential'] & course_understanding['Sequential']),\n",
    "                          consequent=recommended_understanding['Sequential/Sequential'])"
   ]
  },
  {
   "cell_type": "markdown",
   "metadata": {},
   "source": [
    "## **Initializing DataSet and Receiving Inputs for Control Systems**"
   ]
  },
  {
   "cell_type": "code",
   "execution_count": 36,
   "metadata": {},
   "outputs": [],
   "source": [
    "import pandas as pd"
   ]
  },
  {
   "cell_type": "markdown",
   "metadata": {},
   "source": [
    "### Initialize Course Information"
   ]
  },
  {
   "cell_type": "code",
   "execution_count": 37,
   "metadata": {},
   "outputs": [],
   "source": [
    "course = pd.read_csv('Aerospace (Ae)(1).csv', header=0)"
   ]
  },
  {
   "cell_type": "code",
   "execution_count": 38,
   "metadata": {},
   "outputs": [],
   "source": [
    "course.drop(['Unnamed: 0'], axis= 1, inplace= True)"
   ]
  },
  {
   "cell_type": "code",
   "execution_count": 39,
   "metadata": {},
   "outputs": [
    {
     "data": {
      "text/html": [
       "<div>\n",
       "<style scoped>\n",
       "    .dataframe tbody tr th:only-of-type {\n",
       "        vertical-align: middle;\n",
       "    }\n",
       "\n",
       "    .dataframe tbody tr th {\n",
       "        vertical-align: top;\n",
       "    }\n",
       "\n",
       "    .dataframe thead th {\n",
       "        text-align: right;\n",
       "    }\n",
       "</style>\n",
       "<table border=\"1\" class=\"dataframe\">\n",
       "  <thead>\n",
       "    <tr style=\"text-align: right;\">\n",
       "      <th></th>\n",
       "      <th>number</th>\n",
       "      <th>id</th>\n",
       "      <th>title</th>\n",
       "      <th>description</th>\n",
       "      <th>PERCEPTION</th>\n",
       "      <th>INPUT</th>\n",
       "      <th>PROCESSING</th>\n",
       "      <th>UNDERSTANDING</th>\n",
       "    </tr>\n",
       "  </thead>\n",
       "  <tbody>\n",
       "    <tr>\n",
       "      <th>0</th>\n",
       "      <td>101</td>\n",
       "      <td>ae-100</td>\n",
       "      <td>Research in Aerospace.</td>\n",
       "      <td>Open to suitably qualified undergraduates and ...</td>\n",
       "      <td>-10</td>\n",
       "      <td>10</td>\n",
       "      <td>10</td>\n",
       "      <td>10</td>\n",
       "    </tr>\n",
       "    <tr>\n",
       "      <th>1</th>\n",
       "      <td>102</td>\n",
       "      <td>aeaphceme-101-abc</td>\n",
       "      <td>Fluid Mechanics.</td>\n",
       "      <td>Fundamentals of fluid mechanics. Microscopic a...</td>\n",
       "      <td>10</td>\n",
       "      <td>10</td>\n",
       "      <td>10</td>\n",
       "      <td>10</td>\n",
       "    </tr>\n",
       "    <tr>\n",
       "      <th>2</th>\n",
       "      <td>103</td>\n",
       "      <td>aeamceme-102-abc</td>\n",
       "      <td>Mechanics of Structures and Solids.</td>\n",
       "      <td>Introduction to continuum mechanics: kinematic...</td>\n",
       "      <td>-10</td>\n",
       "      <td>10</td>\n",
       "      <td>-10</td>\n",
       "      <td>10</td>\n",
       "    </tr>\n",
       "    <tr>\n",
       "      <th>3</th>\n",
       "      <td>104</td>\n",
       "      <td>ae-103-ab</td>\n",
       "      <td>Aerospace Control Systems.</td>\n",
       "      <td>Part a: Optimization-based design of control s...</td>\n",
       "      <td>-10</td>\n",
       "      <td>-10</td>\n",
       "      <td>10</td>\n",
       "      <td>10</td>\n",
       "    </tr>\n",
       "    <tr>\n",
       "      <th>4</th>\n",
       "      <td>201</td>\n",
       "      <td>aeaph-104-abc</td>\n",
       "      <td>Experimental Methods.</td>\n",
       "      <td>Lectures on experiment design and implementati...</td>\n",
       "      <td>10</td>\n",
       "      <td>-10</td>\n",
       "      <td>-10</td>\n",
       "      <td>10</td>\n",
       "    </tr>\n",
       "  </tbody>\n",
       "</table>\n",
       "</div>"
      ],
      "text/plain": [
       "   number                 id                                title  \\\n",
       "0     101             ae-100               Research in Aerospace.   \n",
       "1     102  aeaphceme-101-abc                     Fluid Mechanics.   \n",
       "2     103   aeamceme-102-abc  Mechanics of Structures and Solids.   \n",
       "3     104          ae-103-ab           Aerospace Control Systems.   \n",
       "4     201      aeaph-104-abc                Experimental Methods.   \n",
       "\n",
       "                                         description  PERCEPTION  INPUT  \\\n",
       "0  Open to suitably qualified undergraduates and ...         -10     10   \n",
       "1  Fundamentals of fluid mechanics. Microscopic a...          10     10   \n",
       "2  Introduction to continuum mechanics: kinematic...         -10     10   \n",
       "3  Part a: Optimization-based design of control s...         -10    -10   \n",
       "4  Lectures on experiment design and implementati...          10    -10   \n",
       "\n",
       "   PROCESSING  UNDERSTANDING  \n",
       "0          10             10  \n",
       "1          10             10  \n",
       "2         -10             10  \n",
       "3          10             10  \n",
       "4         -10             10  "
      ]
     },
     "execution_count": 39,
     "metadata": {},
     "output_type": "execute_result"
    }
   ],
   "source": [
    "course.head()"
   ]
  },
  {
   "cell_type": "markdown",
   "metadata": {},
   "source": [
    "    Allocating the right inputs to variables"
   ]
  },
  {
   "cell_type": "code",
   "execution_count": 40,
   "metadata": {},
   "outputs": [],
   "source": [
    "from_database_perception = course[\"PERCEPTION\"].iloc[0]\n",
    "from_database_input = course[\"INPUT\"].iloc[0]\n",
    "from_database_processing = course[\"PROCESSING\"].iloc[0]\n",
    "from_database_understanding = course[\"UNDERSTANDING\"].iloc[0]"
   ]
  },
  {
   "cell_type": "markdown",
   "metadata": {},
   "source": [
    "### Initialize Student Information"
   ]
  },
  {
   "cell_type": "code",
   "execution_count": 41,
   "metadata": {},
   "outputs": [],
   "source": [
    "student_data = pd.read_csv('student-dataset.csv', header = 0)"
   ]
  },
  {
   "cell_type": "code",
   "execution_count": 42,
   "metadata": {},
   "outputs": [],
   "source": [
    "student_data.drop(['nationality', 'city', 'latitude', 'longitude', 'gender', 'ethnic.group', 'age', 'english.grade', 'math.grade', 'sciences.grade', 'language.grade', 'portfolio.rating', 'coverletter.rating', 'refletter.rating'], axis= 1, inplace= True)"
   ]
  },
  {
   "cell_type": "code",
   "execution_count": 43,
   "metadata": {},
   "outputs": [
    {
     "data": {
      "text/html": [
       "<div>\n",
       "<style scoped>\n",
       "    .dataframe tbody tr th:only-of-type {\n",
       "        vertical-align: middle;\n",
       "    }\n",
       "\n",
       "    .dataframe tbody tr th {\n",
       "        vertical-align: top;\n",
       "    }\n",
       "\n",
       "    .dataframe thead th {\n",
       "        text-align: right;\n",
       "    }\n",
       "</style>\n",
       "<table border=\"1\" class=\"dataframe\">\n",
       "  <thead>\n",
       "    <tr style=\"text-align: right;\">\n",
       "      <th></th>\n",
       "      <th>id</th>\n",
       "      <th>name</th>\n",
       "      <th>PERCEPTION</th>\n",
       "      <th>INPUT</th>\n",
       "      <th>PROCESSING</th>\n",
       "      <th>UNDERSTANDING</th>\n",
       "    </tr>\n",
       "  </thead>\n",
       "  <tbody>\n",
       "    <tr>\n",
       "      <th>0</th>\n",
       "      <td>0</td>\n",
       "      <td>Kiana Lor</td>\n",
       "      <td>8</td>\n",
       "      <td>0</td>\n",
       "      <td>4</td>\n",
       "      <td>-9</td>\n",
       "    </tr>\n",
       "    <tr>\n",
       "      <th>1</th>\n",
       "      <td>1</td>\n",
       "      <td>Joshua Lonaker</td>\n",
       "      <td>-10</td>\n",
       "      <td>2</td>\n",
       "      <td>9</td>\n",
       "      <td>6</td>\n",
       "    </tr>\n",
       "    <tr>\n",
       "      <th>2</th>\n",
       "      <td>2</td>\n",
       "      <td>Dakota Blanco</td>\n",
       "      <td>-6</td>\n",
       "      <td>-7</td>\n",
       "      <td>-1</td>\n",
       "      <td>6</td>\n",
       "    </tr>\n",
       "    <tr>\n",
       "      <th>3</th>\n",
       "      <td>3</td>\n",
       "      <td>Natasha Yarusso</td>\n",
       "      <td>5</td>\n",
       "      <td>4</td>\n",
       "      <td>-3</td>\n",
       "      <td>-6</td>\n",
       "    </tr>\n",
       "    <tr>\n",
       "      <th>4</th>\n",
       "      <td>4</td>\n",
       "      <td>Brooke Cazares</td>\n",
       "      <td>1</td>\n",
       "      <td>-2</td>\n",
       "      <td>-7</td>\n",
       "      <td>-7</td>\n",
       "    </tr>\n",
       "  </tbody>\n",
       "</table>\n",
       "</div>"
      ],
      "text/plain": [
       "   id             name  PERCEPTION  INPUT  PROCESSING  UNDERSTANDING\n",
       "0   0        Kiana Lor           8      0           4             -9\n",
       "1   1   Joshua Lonaker         -10      2           9              6\n",
       "2   2    Dakota Blanco          -6     -7          -1              6\n",
       "3   3  Natasha Yarusso           5      4          -3             -6\n",
       "4   4   Brooke Cazares           1     -2          -7             -7"
      ]
     },
     "execution_count": 43,
     "metadata": {},
     "output_type": "execute_result"
    }
   ],
   "source": [
    "student_data.head()"
   ]
  },
  {
   "cell_type": "code",
   "execution_count": 68,
   "metadata": {},
   "outputs": [],
   "source": [
    "student_fslsm_perception = student_data[\"PERCEPTION\"].iloc[2]\n",
    "student_fslsm_input = student_data[\"INPUT\"].iloc[2]\n",
    "student_fslsm_processing = student_data[\"PROCESSING\"].iloc[2]\n",
    "student_fslsm_understanding = student_data[\"UNDERSTANDING\"].iloc[2]"
   ]
  },
  {
   "cell_type": "code",
   "execution_count": 92,
   "metadata": {},
   "outputs": [
    {
     "name": "stdout",
     "output_type": "stream",
     "text": [
      "id                           2\n",
      "name             Dakota Blanco\n",
      "PERCEPTION                  -6\n",
      "INPUT                       -7\n",
      "PROCESSING                  -1\n",
      "UNDERSTANDING                6\n",
      "Name: 2, dtype: object\n"
     ]
    }
   ],
   "source": [
    "print(student_data.iloc[2])"
   ]
  },
  {
   "cell_type": "code",
   "execution_count": 70,
   "metadata": {},
   "outputs": [
    {
     "name": "stdout",
     "output_type": "stream",
     "text": [
      "number                                                         101\n",
      "id                                                          ae-100\n",
      "title                                       Research in Aerospace.\n",
      "description      Open to suitably qualified undergraduates and ...\n",
      "PERCEPTION                                                     -10\n",
      "INPUT                                                           10\n",
      "PROCESSING                                                      10\n",
      "UNDERSTANDING                                                   10\n",
      "Name: 0, dtype: object\n"
     ]
    }
   ],
   "source": [
    "print(course.iloc[0])"
   ]
  },
  {
   "cell_type": "markdown",
   "metadata": {},
   "source": [
    "## **Control System For Perception**"
   ]
  },
  {
   "cell_type": "code",
   "execution_count": 71,
   "metadata": {},
   "outputs": [],
   "source": [
    "rules_list = [perception_rule1, perception_rule2, perception_rule3, perception_rule4]"
   ]
  },
  {
   "cell_type": "code",
   "execution_count": 72,
   "metadata": {},
   "outputs": [],
   "source": [
    "perception_recommender_ctrl = ctrl.ControlSystem(rules=rules_list)"
   ]
  },
  {
   "cell_type": "code",
   "execution_count": 73,
   "metadata": {},
   "outputs": [],
   "source": [
    "perception_recommender = ctrl.ControlSystemSimulation(perception_recommender_ctrl)"
   ]
  },
  {
   "cell_type": "code",
   "execution_count": 74,
   "metadata": {},
   "outputs": [],
   "source": [
    "perception_recommender.input['std_perception'] = student_fslsm_perception \n",
    "perception_recommender.input['course_perception'] = from_database_perception\n",
    "perception_recommender.compute()"
   ]
  },
  {
   "cell_type": "code",
   "execution_count": 75,
   "metadata": {},
   "outputs": [
    {
     "name": "stdout",
     "output_type": "stream",
     "text": [
      "-5.705882352941178\n"
     ]
    },
    {
     "name": "stderr",
     "output_type": "stream",
     "text": [
      "c:\\Users\\berna\\.conda\\envs\\ai-env\\lib\\site-packages\\skfuzzy\\control\\fuzzyvariable.py:122: UserWarning: Matplotlib is currently using module://matplotlib_inline.backend_inline, which is a non-GUI backend, so cannot show the figure.\n",
      "  fig.show()\n"
     ]
    },
    {
     "data": {
      "image/png": "[encoded data removed]",
      "text/plain": [
       "<Figure size 432x288 with 1 Axes>"
      ]
     },
     "metadata": {
      "needs_background": "light"
     },
     "output_type": "display_data"
    }
   ],
   "source": [
    "print(perception_recommender.output['recommended_perception'])\n",
    "recommended_perception.view(sim = perception_recommender)\n"
   ]
  },
  {
   "cell_type": "markdown",
   "metadata": {},
   "source": [
    "## **Control System For Input**"
   ]
  },
  {
   "cell_type": "code",
   "execution_count": 76,
   "metadata": {},
   "outputs": [],
   "source": [
    "rules_list = [input_rule1, input_rule2, input_rule3, input_rule4]"
   ]
  },
  {
   "cell_type": "code",
   "execution_count": 77,
   "metadata": {},
   "outputs": [],
   "source": [
    "input_recommender_ctrl = ctrl.ControlSystem(rules=rules_list)"
   ]
  },
  {
   "cell_type": "code",
   "execution_count": 78,
   "metadata": {},
   "outputs": [],
   "source": [
    "input_recommender = ctrl.ControlSystemSimulation(input_recommender_ctrl)"
   ]
  },
  {
   "cell_type": "code",
   "execution_count": 79,
   "metadata": {},
   "outputs": [],
   "source": [
    "input_recommender.input['std_input'] = student_fslsm_input\n",
    "input_recommender.input['course_input'] = from_database_input\n",
    "input_recommender.compute()"
   ]
  },
  {
   "cell_type": "code",
   "execution_count": 80,
   "metadata": {},
   "outputs": [
    {
     "name": "stdout",
     "output_type": "stream",
     "text": [
      "-0.9333333333333333\n"
     ]
    },
    {
     "name": "stderr",
     "output_type": "stream",
     "text": [
      "c:\\Users\\berna\\.conda\\envs\\ai-env\\lib\\site-packages\\skfuzzy\\control\\fuzzyvariable.py:122: UserWarning: Matplotlib is currently using module://matplotlib_inline.backend_inline, which is a non-GUI backend, so cannot show the figure.\n",
      "  fig.show()\n"
     ]
    },
    {
     "data": {
      "image/png": "[encoded data removed]",
      "text/plain": [
       "<Figure size 432x288 with 1 Axes>"
      ]
     },
     "metadata": {
      "needs_background": "light"
     },
     "output_type": "display_data"
    }
   ],
   "source": [
    "print(input_recommender.output['recommended_input'])\n",
    "recommended_input.view(sim = input_recommender)\n"
   ]
  },
  {
   "cell_type": "markdown",
   "metadata": {},
   "source": [
    "## **Control System For Processing**"
   ]
  },
  {
   "cell_type": "code",
   "execution_count": 81,
   "metadata": {},
   "outputs": [],
   "source": [
    "rules_list = [processing_rule1, processing_rule2, processing_rule3, processing_rule4]"
   ]
  },
  {
   "cell_type": "code",
   "execution_count": 82,
   "metadata": {},
   "outputs": [],
   "source": [
    "processing_recommender_ctrl = ctrl.ControlSystem(rules=rules_list)"
   ]
  },
  {
   "cell_type": "code",
   "execution_count": 83,
   "metadata": {},
   "outputs": [],
   "source": [
    "processing_recommender = ctrl.ControlSystemSimulation(processing_recommender_ctrl)"
   ]
  },
  {
   "cell_type": "code",
   "execution_count": 84,
   "metadata": {},
   "outputs": [],
   "source": [
    "processing_recommender.input['std_processing'] = student_fslsm_processing\n",
    "processing_recommender.input['course_processing'] = from_database_processing\n",
    "processing_recommender.compute()"
   ]
  },
  {
   "cell_type": "code",
   "execution_count": 85,
   "metadata": {},
   "outputs": [
    {
     "name": "stdout",
     "output_type": "stream",
     "text": [
      "1.5804776739356179\n"
     ]
    },
    {
     "name": "stderr",
     "output_type": "stream",
     "text": [
      "c:\\Users\\berna\\.conda\\envs\\ai-env\\lib\\site-packages\\skfuzzy\\control\\fuzzyvariable.py:122: UserWarning: Matplotlib is currently using module://matplotlib_inline.backend_inline, which is a non-GUI backend, so cannot show the figure.\n",
      "  fig.show()\n"
     ]
    },
    {
     "data": {
      "image/png": "[encoded data removed]",
      "text/plain": [
       "<Figure size 432x288 with 1 Axes>"
      ]
     },
     "metadata": {
      "needs_background": "light"
     },
     "output_type": "display_data"
    }
   ],
   "source": [
    "print(processing_recommender.output['recommended_processing'])\n",
    "recommended_processing.view(sim = processing_recommender)"
   ]
  },
  {
   "cell_type": "markdown",
   "metadata": {},
   "source": [
    "## **Control System For Understanding**"
   ]
  },
  {
   "cell_type": "code",
   "execution_count": 86,
   "metadata": {},
   "outputs": [],
   "source": [
    "rules_list = [understanding_rule1, understanding_rule2, understanding_rule3, understanding_rule4]"
   ]
  },
  {
   "cell_type": "code",
   "execution_count": 87,
   "metadata": {},
   "outputs": [],
   "source": [
    "understanding_recommender_ctrl = ctrl.ControlSystem(rules=rules_list)"
   ]
  },
  {
   "cell_type": "code",
   "execution_count": 88,
   "metadata": {},
   "outputs": [],
   "source": [
    "understanding_recommender = ctrl.ControlSystemSimulation(understanding_recommender_ctrl)"
   ]
  },
  {
   "cell_type": "code",
   "execution_count": 89,
   "metadata": {},
   "outputs": [],
   "source": [
    "understanding_recommender.input['std_understanding'] = student_fslsm_understanding\n",
    "understanding_recommender.input['course_understanding'] = from_database_understanding\n",
    "understanding_recommender.compute()"
   ]
  },
  {
   "cell_type": "code",
   "execution_count": 90,
   "metadata": {},
   "outputs": [
    {
     "name": "stdout",
     "output_type": "stream",
     "text": [
      "5.2\n"
     ]
    },
    {
     "name": "stderr",
     "output_type": "stream",
     "text": [
      "c:\\Users\\berna\\.conda\\envs\\ai-env\\lib\\site-packages\\skfuzzy\\control\\fuzzyvariable.py:122: UserWarning: Matplotlib is currently using module://matplotlib_inline.backend_inline, which is a non-GUI backend, so cannot show the figure.\n",
      "  fig.show()\n"
     ]
    },
    {
     "data": {
      "image/png": "[encoded data removed]",
      "text/plain": [
       "<Figure size 432x288 with 1 Axes>"
      ]
     },
     "metadata": {
      "needs_background": "light"
     },
     "output_type": "display_data"
    }
   ],
   "source": [
    "print(understanding_recommender.output['recommended_understanding'])\n",
    "recommended_understanding.view(sim = understanding_recommender)\n"
   ]
  },
  {
   "cell_type": "markdown",
   "metadata": {},
   "source": [
    "    Caluclating Final Value for student"
   ]
  },
  {
   "cell_type": "code",
   "execution_count": 91,
   "metadata": {},
   "outputs": [
    {
     "name": "stdout",
     "output_type": "stream",
     "text": [
      "0.14126198766110631\n"
     ]
    }
   ],
   "source": [
    "overall_value = understanding_recommender.output['recommended_understanding'] + perception_recommender.output ['recommended_perception'] \n",
    "overall_value = overall_value + input_recommender.output ['recommended_input'] + processing_recommender.output['recommended_processing']\n",
    "print (overall_value)"
   ]
  },
  {
   "cell_type": "code",
   "execution_count": null,
   "metadata": {},
   "outputs": [],
   "source": []
  }
 ],
 "metadata": {
  "kernelspec": {
   "display_name": "Python 3.9.12 ('ai-env')",
   "language": "python",
   "name": "python3"
  },
  "language_info": {
   "codemirror_mode": {
    "name": "ipython",
    "version": 3
   },
   "file_extension": ".py",
   "mimetype": "text/x-python",
   "name": "python",
   "nbconvert_exporter": "python",
   "pygments_lexer": "ipython3",
   "version": "3.9.12"
  },
  "orig_nbformat": 4,
  "vscode": {
   "interpreter": {
    "hash": "8365970708f4c9f6fbab140fc5965a1172232d3b86402a05f22825a2ca8545dd"
   }
  }
 },
 "nbformat": 4,
 "nbformat_minor": 2
}
